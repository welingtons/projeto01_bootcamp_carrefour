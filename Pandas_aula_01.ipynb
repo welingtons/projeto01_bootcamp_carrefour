{
  "nbformat": 4,
  "nbformat_minor": 0,
  "metadata": {
    "colab": {
      "name": "Pandas_aula_01.ipynb",
      "provenance": [],
      "collapsed_sections": []
    },
    "kernelspec": {
      "name": "python3",
      "display_name": "Python 3"
    },
    "language_info": {
      "name": "python"
    }
  },
  "cells": [
    {
      "cell_type": "code",
      "metadata": {
        "id": "Ot6Q_vgSfLCP"
      },
      "source": [
        "# Importando a biblioteca pandas\n",
        "import pandas as pd"
      ],
      "execution_count": 1,
      "outputs": []
    },
    {
      "cell_type": "code",
      "metadata": {
        "id": "NVegYkz1lK7p"
      },
      "source": [
        "df = pd.read_csv(\"/content/Datasets/Gapminder.csv\", error_bad_lines=False, sep=\";\")"
      ],
      "execution_count": 5,
      "outputs": []
    },
    {
      "cell_type": "code",
      "metadata": {
        "colab": {
          "base_uri": "https://localhost:8080/",
          "height": 203
        },
        "id": "PEbtp4T2l48C",
        "outputId": "3cd901bf-6c60-42e5-99c9-b57a41eaf267"
      },
      "source": [
        "# Visualizando as 5 primeiras linhas\n",
        "df.head()"
      ],
      "execution_count": 6,
      "outputs": [
        {
          "output_type": "execute_result",
          "data": {
            "text/html": [
              "<div>\n",
              "<style scoped>\n",
              "    .dataframe tbody tr th:only-of-type {\n",
              "        vertical-align: middle;\n",
              "    }\n",
              "\n",
              "    .dataframe tbody tr th {\n",
              "        vertical-align: top;\n",
              "    }\n",
              "\n",
              "    .dataframe thead th {\n",
              "        text-align: right;\n",
              "    }\n",
              "</style>\n",
              "<table border=\"1\" class=\"dataframe\">\n",
              "  <thead>\n",
              "    <tr style=\"text-align: right;\">\n",
              "      <th></th>\n",
              "      <th>country</th>\n",
              "      <th>continent</th>\n",
              "      <th>year</th>\n",
              "      <th>lifeExp</th>\n",
              "      <th>pop</th>\n",
              "      <th>gdpPercap</th>\n",
              "    </tr>\n",
              "  </thead>\n",
              "  <tbody>\n",
              "    <tr>\n",
              "      <th>0</th>\n",
              "      <td>Afghanistan</td>\n",
              "      <td>Asia</td>\n",
              "      <td>1952</td>\n",
              "      <td>28.801</td>\n",
              "      <td>8425333</td>\n",
              "      <td>779.445314</td>\n",
              "    </tr>\n",
              "    <tr>\n",
              "      <th>1</th>\n",
              "      <td>Afghanistan</td>\n",
              "      <td>Asia</td>\n",
              "      <td>1957</td>\n",
              "      <td>30.332</td>\n",
              "      <td>9240934</td>\n",
              "      <td>820.853030</td>\n",
              "    </tr>\n",
              "    <tr>\n",
              "      <th>2</th>\n",
              "      <td>Afghanistan</td>\n",
              "      <td>Asia</td>\n",
              "      <td>1962</td>\n",
              "      <td>31.997</td>\n",
              "      <td>10267083</td>\n",
              "      <td>853.100710</td>\n",
              "    </tr>\n",
              "    <tr>\n",
              "      <th>3</th>\n",
              "      <td>Afghanistan</td>\n",
              "      <td>Asia</td>\n",
              "      <td>1967</td>\n",
              "      <td>34.020</td>\n",
              "      <td>11537966</td>\n",
              "      <td>836.197138</td>\n",
              "    </tr>\n",
              "    <tr>\n",
              "      <th>4</th>\n",
              "      <td>Afghanistan</td>\n",
              "      <td>Asia</td>\n",
              "      <td>1972</td>\n",
              "      <td>36.088</td>\n",
              "      <td>13079460</td>\n",
              "      <td>739.981106</td>\n",
              "    </tr>\n",
              "  </tbody>\n",
              "</table>\n",
              "</div>"
            ],
            "text/plain": [
              "       country continent  year  lifeExp       pop   gdpPercap\n",
              "0  Afghanistan      Asia  1952   28.801   8425333  779.445314\n",
              "1  Afghanistan      Asia  1957   30.332   9240934  820.853030\n",
              "2  Afghanistan      Asia  1962   31.997  10267083  853.100710\n",
              "3  Afghanistan      Asia  1967   34.020  11537966  836.197138\n",
              "4  Afghanistan      Asia  1972   36.088  13079460  739.981106"
            ]
          },
          "metadata": {},
          "execution_count": 6
        }
      ]
    },
    {
      "cell_type": "code",
      "metadata": {
        "id": "DEptGYXTmGCa"
      },
      "source": [
        "df = df.rename(columns={\"country\":\"Pais\", \"continent\":\"Continente\", \"year\":\"Ano\", \"lifeExp\": \"Expct_Vida\", \"pop\":\"Pop_Total\", \"gdpPercap\": \"PIB\"})"
      ],
      "execution_count": 8,
      "outputs": []
    },
    {
      "cell_type": "code",
      "metadata": {
        "colab": {
          "base_uri": "https://localhost:8080/",
          "height": 357
        },
        "id": "JF_S-k3inOnc",
        "outputId": "f705f200-a8e5-49c4-96db-0c2a23ec426a"
      },
      "source": [
        "df.head(10)"
      ],
      "execution_count": 10,
      "outputs": [
        {
          "output_type": "execute_result",
          "data": {
            "text/html": [
              "<div>\n",
              "<style scoped>\n",
              "    .dataframe tbody tr th:only-of-type {\n",
              "        vertical-align: middle;\n",
              "    }\n",
              "\n",
              "    .dataframe tbody tr th {\n",
              "        vertical-align: top;\n",
              "    }\n",
              "\n",
              "    .dataframe thead th {\n",
              "        text-align: right;\n",
              "    }\n",
              "</style>\n",
              "<table border=\"1\" class=\"dataframe\">\n",
              "  <thead>\n",
              "    <tr style=\"text-align: right;\">\n",
              "      <th></th>\n",
              "      <th>Pais</th>\n",
              "      <th>Continente</th>\n",
              "      <th>Ano</th>\n",
              "      <th>Expct_Vida</th>\n",
              "      <th>Pop_Total</th>\n",
              "      <th>PIB</th>\n",
              "    </tr>\n",
              "  </thead>\n",
              "  <tbody>\n",
              "    <tr>\n",
              "      <th>0</th>\n",
              "      <td>Afghanistan</td>\n",
              "      <td>Asia</td>\n",
              "      <td>1952</td>\n",
              "      <td>28.801</td>\n",
              "      <td>8425333</td>\n",
              "      <td>779.445314</td>\n",
              "    </tr>\n",
              "    <tr>\n",
              "      <th>1</th>\n",
              "      <td>Afghanistan</td>\n",
              "      <td>Asia</td>\n",
              "      <td>1957</td>\n",
              "      <td>30.332</td>\n",
              "      <td>9240934</td>\n",
              "      <td>820.853030</td>\n",
              "    </tr>\n",
              "    <tr>\n",
              "      <th>2</th>\n",
              "      <td>Afghanistan</td>\n",
              "      <td>Asia</td>\n",
              "      <td>1962</td>\n",
              "      <td>31.997</td>\n",
              "      <td>10267083</td>\n",
              "      <td>853.100710</td>\n",
              "    </tr>\n",
              "    <tr>\n",
              "      <th>3</th>\n",
              "      <td>Afghanistan</td>\n",
              "      <td>Asia</td>\n",
              "      <td>1967</td>\n",
              "      <td>34.020</td>\n",
              "      <td>11537966</td>\n",
              "      <td>836.197138</td>\n",
              "    </tr>\n",
              "    <tr>\n",
              "      <th>4</th>\n",
              "      <td>Afghanistan</td>\n",
              "      <td>Asia</td>\n",
              "      <td>1972</td>\n",
              "      <td>36.088</td>\n",
              "      <td>13079460</td>\n",
              "      <td>739.981106</td>\n",
              "    </tr>\n",
              "    <tr>\n",
              "      <th>5</th>\n",
              "      <td>Afghanistan</td>\n",
              "      <td>Asia</td>\n",
              "      <td>1977</td>\n",
              "      <td>38.438</td>\n",
              "      <td>14880372</td>\n",
              "      <td>786.113360</td>\n",
              "    </tr>\n",
              "    <tr>\n",
              "      <th>6</th>\n",
              "      <td>Afghanistan</td>\n",
              "      <td>Asia</td>\n",
              "      <td>1982</td>\n",
              "      <td>39.854</td>\n",
              "      <td>12881816</td>\n",
              "      <td>978.011439</td>\n",
              "    </tr>\n",
              "    <tr>\n",
              "      <th>7</th>\n",
              "      <td>Afghanistan</td>\n",
              "      <td>Asia</td>\n",
              "      <td>1987</td>\n",
              "      <td>40.822</td>\n",
              "      <td>13867957</td>\n",
              "      <td>852.395945</td>\n",
              "    </tr>\n",
              "    <tr>\n",
              "      <th>8</th>\n",
              "      <td>Afghanistan</td>\n",
              "      <td>Asia</td>\n",
              "      <td>1992</td>\n",
              "      <td>41.674</td>\n",
              "      <td>16317921</td>\n",
              "      <td>649.341395</td>\n",
              "    </tr>\n",
              "    <tr>\n",
              "      <th>9</th>\n",
              "      <td>Afghanistan</td>\n",
              "      <td>Asia</td>\n",
              "      <td>1997</td>\n",
              "      <td>41.763</td>\n",
              "      <td>22227415</td>\n",
              "      <td>635.341351</td>\n",
              "    </tr>\n",
              "  </tbody>\n",
              "</table>\n",
              "</div>"
            ],
            "text/plain": [
              "          Pais Continente   Ano  Expct_Vida  Pop_Total         PIB\n",
              "0  Afghanistan       Asia  1952      28.801    8425333  779.445314\n",
              "1  Afghanistan       Asia  1957      30.332    9240934  820.853030\n",
              "2  Afghanistan       Asia  1962      31.997   10267083  853.100710\n",
              "3  Afghanistan       Asia  1967      34.020   11537966  836.197138\n",
              "4  Afghanistan       Asia  1972      36.088   13079460  739.981106\n",
              "5  Afghanistan       Asia  1977      38.438   14880372  786.113360\n",
              "6  Afghanistan       Asia  1982      39.854   12881816  978.011439\n",
              "7  Afghanistan       Asia  1987      40.822   13867957  852.395945\n",
              "8  Afghanistan       Asia  1992      41.674   16317921  649.341395\n",
              "9  Afghanistan       Asia  1997      41.763   22227415  635.341351"
            ]
          },
          "metadata": {},
          "execution_count": 10
        }
      ]
    },
    {
      "cell_type": "code",
      "metadata": {
        "colab": {
          "base_uri": "https://localhost:8080/"
        },
        "id": "-8E2R_dtnZy9",
        "outputId": "650199bb-1231-476c-ac59-1a05d5e226cf"
      },
      "source": [
        "# Total de linhas e colunas\n",
        "df.shape"
      ],
      "execution_count": 11,
      "outputs": [
        {
          "output_type": "execute_result",
          "data": {
            "text/plain": [
              "(3312, 6)"
            ]
          },
          "metadata": {},
          "execution_count": 11
        }
      ]
    },
    {
      "cell_type": "code",
      "metadata": {
        "colab": {
          "base_uri": "https://localhost:8080/"
        },
        "id": "MsC96zj7niD4",
        "outputId": "ed54595e-e42c-41c2-ce78-f3a0f5a5eb46"
      },
      "source": [
        "# Exibindo o nome das colunas\n",
        "df.columns"
      ],
      "execution_count": 12,
      "outputs": [
        {
          "output_type": "execute_result",
          "data": {
            "text/plain": [
              "Index(['Pais', 'Continente', 'Ano', 'Expct_Vida', 'Pop_Total', 'PIB'], dtype='object')"
            ]
          },
          "metadata": {},
          "execution_count": 12
        }
      ]
    },
    {
      "cell_type": "code",
      "metadata": {
        "colab": {
          "base_uri": "https://localhost:8080/"
        },
        "id": "M54o5YQQoFsB",
        "outputId": "408de21a-ffe6-4b0e-f4da-faef2dbcc8f9"
      },
      "source": [
        "# Tipo de dados das colunas\n",
        "df.dtypes"
      ],
      "execution_count": 13,
      "outputs": [
        {
          "output_type": "execute_result",
          "data": {
            "text/plain": [
              "Pais           object\n",
              "Continente     object\n",
              "Ano             int64\n",
              "Expct_Vida    float64\n",
              "Pop_Total       int64\n",
              "PIB           float64\n",
              "dtype: object"
            ]
          },
          "metadata": {},
          "execution_count": 13
        }
      ]
    },
    {
      "cell_type": "code",
      "metadata": {
        "colab": {
          "base_uri": "https://localhost:8080/",
          "height": 511
        },
        "id": "hcEB0gHZoOsG",
        "outputId": "5da4f257-ddd1-4adf-b40a-8afb4a9761ea"
      },
      "source": [
        "# Ultimas linhas\n",
        "df.tail(15)"
      ],
      "execution_count": 15,
      "outputs": [
        {
          "output_type": "execute_result",
          "data": {
            "text/html": [
              "<div>\n",
              "<style scoped>\n",
              "    .dataframe tbody tr th:only-of-type {\n",
              "        vertical-align: middle;\n",
              "    }\n",
              "\n",
              "    .dataframe tbody tr th {\n",
              "        vertical-align: top;\n",
              "    }\n",
              "\n",
              "    .dataframe thead th {\n",
              "        text-align: right;\n",
              "    }\n",
              "</style>\n",
              "<table border=\"1\" class=\"dataframe\">\n",
              "  <thead>\n",
              "    <tr style=\"text-align: right;\">\n",
              "      <th></th>\n",
              "      <th>Pais</th>\n",
              "      <th>Continente</th>\n",
              "      <th>Ano</th>\n",
              "      <th>Expct_Vida</th>\n",
              "      <th>Pop_Total</th>\n",
              "      <th>PIB</th>\n",
              "    </tr>\n",
              "  </thead>\n",
              "  <tbody>\n",
              "    <tr>\n",
              "      <th>3297</th>\n",
              "      <td>Zambia</td>\n",
              "      <td>Africa</td>\n",
              "      <td>1997</td>\n",
              "      <td>40.238</td>\n",
              "      <td>9417789</td>\n",
              "      <td>1071.353818</td>\n",
              "    </tr>\n",
              "    <tr>\n",
              "      <th>3298</th>\n",
              "      <td>Zambia</td>\n",
              "      <td>Africa</td>\n",
              "      <td>2002</td>\n",
              "      <td>39.193</td>\n",
              "      <td>10595811</td>\n",
              "      <td>1071.613938</td>\n",
              "    </tr>\n",
              "    <tr>\n",
              "      <th>3299</th>\n",
              "      <td>Zambia</td>\n",
              "      <td>Africa</td>\n",
              "      <td>2007</td>\n",
              "      <td>42.384</td>\n",
              "      <td>11746035</td>\n",
              "      <td>1271.211593</td>\n",
              "    </tr>\n",
              "    <tr>\n",
              "      <th>3300</th>\n",
              "      <td>Zimbabwe</td>\n",
              "      <td>Africa</td>\n",
              "      <td>1952</td>\n",
              "      <td>48.451</td>\n",
              "      <td>3080907</td>\n",
              "      <td>406.884115</td>\n",
              "    </tr>\n",
              "    <tr>\n",
              "      <th>3301</th>\n",
              "      <td>Zimbabwe</td>\n",
              "      <td>Africa</td>\n",
              "      <td>1957</td>\n",
              "      <td>50.469</td>\n",
              "      <td>3646340</td>\n",
              "      <td>518.764268</td>\n",
              "    </tr>\n",
              "    <tr>\n",
              "      <th>3302</th>\n",
              "      <td>Zimbabwe</td>\n",
              "      <td>Africa</td>\n",
              "      <td>1962</td>\n",
              "      <td>52.358</td>\n",
              "      <td>4277736</td>\n",
              "      <td>527.272182</td>\n",
              "    </tr>\n",
              "    <tr>\n",
              "      <th>3303</th>\n",
              "      <td>Zimbabwe</td>\n",
              "      <td>Africa</td>\n",
              "      <td>1967</td>\n",
              "      <td>53.995</td>\n",
              "      <td>4995432</td>\n",
              "      <td>569.795071</td>\n",
              "    </tr>\n",
              "    <tr>\n",
              "      <th>3304</th>\n",
              "      <td>Zimbabwe</td>\n",
              "      <td>Africa</td>\n",
              "      <td>1972</td>\n",
              "      <td>55.635</td>\n",
              "      <td>5861135</td>\n",
              "      <td>799.362176</td>\n",
              "    </tr>\n",
              "    <tr>\n",
              "      <th>3305</th>\n",
              "      <td>Zimbabwe</td>\n",
              "      <td>Africa</td>\n",
              "      <td>1977</td>\n",
              "      <td>57.674</td>\n",
              "      <td>6642107</td>\n",
              "      <td>685.587682</td>\n",
              "    </tr>\n",
              "    <tr>\n",
              "      <th>3306</th>\n",
              "      <td>Zimbabwe</td>\n",
              "      <td>Africa</td>\n",
              "      <td>1982</td>\n",
              "      <td>60.363</td>\n",
              "      <td>7636524</td>\n",
              "      <td>788.855041</td>\n",
              "    </tr>\n",
              "    <tr>\n",
              "      <th>3307</th>\n",
              "      <td>Zimbabwe</td>\n",
              "      <td>Africa</td>\n",
              "      <td>1987</td>\n",
              "      <td>62.351</td>\n",
              "      <td>9216418</td>\n",
              "      <td>706.157306</td>\n",
              "    </tr>\n",
              "    <tr>\n",
              "      <th>3308</th>\n",
              "      <td>Zimbabwe</td>\n",
              "      <td>Africa</td>\n",
              "      <td>1992</td>\n",
              "      <td>60.377</td>\n",
              "      <td>10704340</td>\n",
              "      <td>693.420786</td>\n",
              "    </tr>\n",
              "    <tr>\n",
              "      <th>3309</th>\n",
              "      <td>Zimbabwe</td>\n",
              "      <td>Africa</td>\n",
              "      <td>1997</td>\n",
              "      <td>46.809</td>\n",
              "      <td>11404948</td>\n",
              "      <td>792.449960</td>\n",
              "    </tr>\n",
              "    <tr>\n",
              "      <th>3310</th>\n",
              "      <td>Zimbabwe</td>\n",
              "      <td>Africa</td>\n",
              "      <td>2002</td>\n",
              "      <td>39.989</td>\n",
              "      <td>11926563</td>\n",
              "      <td>672.038623</td>\n",
              "    </tr>\n",
              "    <tr>\n",
              "      <th>3311</th>\n",
              "      <td>Zimbabwe</td>\n",
              "      <td>Africa</td>\n",
              "      <td>2007</td>\n",
              "      <td>43.487</td>\n",
              "      <td>12311143</td>\n",
              "      <td>469.709298</td>\n",
              "    </tr>\n",
              "  </tbody>\n",
              "</table>\n",
              "</div>"
            ],
            "text/plain": [
              "          Pais Continente   Ano  Expct_Vida  Pop_Total          PIB\n",
              "3297    Zambia     Africa  1997      40.238    9417789  1071.353818\n",
              "3298    Zambia     Africa  2002      39.193   10595811  1071.613938\n",
              "3299    Zambia     Africa  2007      42.384   11746035  1271.211593\n",
              "3300  Zimbabwe     Africa  1952      48.451    3080907   406.884115\n",
              "3301  Zimbabwe     Africa  1957      50.469    3646340   518.764268\n",
              "3302  Zimbabwe     Africa  1962      52.358    4277736   527.272182\n",
              "3303  Zimbabwe     Africa  1967      53.995    4995432   569.795071\n",
              "3304  Zimbabwe     Africa  1972      55.635    5861135   799.362176\n",
              "3305  Zimbabwe     Africa  1977      57.674    6642107   685.587682\n",
              "3306  Zimbabwe     Africa  1982      60.363    7636524   788.855041\n",
              "3307  Zimbabwe     Africa  1987      62.351    9216418   706.157306\n",
              "3308  Zimbabwe     Africa  1992      60.377   10704340   693.420786\n",
              "3309  Zimbabwe     Africa  1997      46.809   11404948   792.449960\n",
              "3310  Zimbabwe     Africa  2002      39.989   11926563   672.038623\n",
              "3311  Zimbabwe     Africa  2007      43.487   12311143   469.709298"
            ]
          },
          "metadata": {},
          "execution_count": 15
        }
      ]
    },
    {
      "cell_type": "code",
      "metadata": {
        "colab": {
          "base_uri": "https://localhost:8080/",
          "height": 295
        },
        "id": "FYSuNL4uogUb",
        "outputId": "18ff199e-ce91-4787-ed4e-41761d8827eb"
      },
      "source": [
        "# Descriçao\n",
        "df.describe()"
      ],
      "execution_count": 18,
      "outputs": [
        {
          "output_type": "execute_result",
          "data": {
            "text/html": [
              "<div>\n",
              "<style scoped>\n",
              "    .dataframe tbody tr th:only-of-type {\n",
              "        vertical-align: middle;\n",
              "    }\n",
              "\n",
              "    .dataframe tbody tr th {\n",
              "        vertical-align: top;\n",
              "    }\n",
              "\n",
              "    .dataframe thead th {\n",
              "        text-align: right;\n",
              "    }\n",
              "</style>\n",
              "<table border=\"1\" class=\"dataframe\">\n",
              "  <thead>\n",
              "    <tr style=\"text-align: right;\">\n",
              "      <th></th>\n",
              "      <th>Ano</th>\n",
              "      <th>Expct_Vida</th>\n",
              "      <th>Pop_Total</th>\n",
              "      <th>PIB</th>\n",
              "    </tr>\n",
              "  </thead>\n",
              "  <tbody>\n",
              "    <tr>\n",
              "      <th>count</th>\n",
              "      <td>3312.000000</td>\n",
              "      <td>3312.000000</td>\n",
              "      <td>3.312000e+03</td>\n",
              "      <td>3312.000000</td>\n",
              "    </tr>\n",
              "    <tr>\n",
              "      <th>mean</th>\n",
              "      <td>1980.301630</td>\n",
              "      <td>65.246871</td>\n",
              "      <td>3.161489e+07</td>\n",
              "      <td>11317.115805</td>\n",
              "    </tr>\n",
              "    <tr>\n",
              "      <th>std</th>\n",
              "      <td>16.927294</td>\n",
              "      <td>11.768412</td>\n",
              "      <td>1.041193e+08</td>\n",
              "      <td>11369.142739</td>\n",
              "    </tr>\n",
              "    <tr>\n",
              "      <th>min</th>\n",
              "      <td>1950.000000</td>\n",
              "      <td>23.599000</td>\n",
              "      <td>5.941200e+04</td>\n",
              "      <td>241.165877</td>\n",
              "    </tr>\n",
              "    <tr>\n",
              "      <th>25%</th>\n",
              "      <td>1967.000000</td>\n",
              "      <td>58.337500</td>\n",
              "      <td>2.678572e+06</td>\n",
              "      <td>2514.625266</td>\n",
              "    </tr>\n",
              "    <tr>\n",
              "      <th>50%</th>\n",
              "      <td>1982.000000</td>\n",
              "      <td>69.610000</td>\n",
              "      <td>7.557218e+06</td>\n",
              "      <td>7838.505123</td>\n",
              "    </tr>\n",
              "    <tr>\n",
              "      <th>75%</th>\n",
              "      <td>1996.000000</td>\n",
              "      <td>73.657750</td>\n",
              "      <td>1.958522e+07</td>\n",
              "      <td>17357.879170</td>\n",
              "    </tr>\n",
              "    <tr>\n",
              "      <th>max</th>\n",
              "      <td>2007.000000</td>\n",
              "      <td>82.670000</td>\n",
              "      <td>1.318683e+09</td>\n",
              "      <td>113523.132900</td>\n",
              "    </tr>\n",
              "  </tbody>\n",
              "</table>\n",
              "</div>"
            ],
            "text/plain": [
              "               Ano   Expct_Vida     Pop_Total            PIB\n",
              "count  3312.000000  3312.000000  3.312000e+03    3312.000000\n",
              "mean   1980.301630    65.246871  3.161489e+07   11317.115805\n",
              "std      16.927294    11.768412  1.041193e+08   11369.142739\n",
              "min    1950.000000    23.599000  5.941200e+04     241.165877\n",
              "25%    1967.000000    58.337500  2.678572e+06    2514.625266\n",
              "50%    1982.000000    69.610000  7.557218e+06    7838.505123\n",
              "75%    1996.000000    73.657750  1.958522e+07   17357.879170\n",
              "max    2007.000000    82.670000  1.318683e+09  113523.132900"
            ]
          },
          "metadata": {},
          "execution_count": 18
        }
      ]
    },
    {
      "cell_type": "code",
      "metadata": {
        "colab": {
          "base_uri": "https://localhost:8080/"
        },
        "id": "AnOWYCIwox4X",
        "outputId": "9c22a059-8a45-42fb-df12-ab4cbb18d04f"
      },
      "source": [
        "df[\"Continente\"].unique()"
      ],
      "execution_count": 19,
      "outputs": [
        {
          "output_type": "execute_result",
          "data": {
            "text/plain": [
              "array(['Asia', 'Europe', 'Africa', 'Americas', nan, 'FSU', 'Oceania'],\n",
              "      dtype=object)"
            ]
          },
          "metadata": {},
          "execution_count": 19
        }
      ]
    },
    {
      "cell_type": "code",
      "metadata": {
        "colab": {
          "base_uri": "https://localhost:8080/",
          "height": 203
        },
        "id": "6i9DxF3rpdRD",
        "outputId": "a83b25f4-7e63-409e-af89-79c5fb460a93"
      },
      "source": [
        "oceania = df.loc[df[\"Continente\"] == \"Oceania\"]\n",
        "oceania.head()"
      ],
      "execution_count": 25,
      "outputs": [
        {
          "output_type": "execute_result",
          "data": {
            "text/html": [
              "<div>\n",
              "<style scoped>\n",
              "    .dataframe tbody tr th:only-of-type {\n",
              "        vertical-align: middle;\n",
              "    }\n",
              "\n",
              "    .dataframe tbody tr th {\n",
              "        vertical-align: top;\n",
              "    }\n",
              "\n",
              "    .dataframe thead th {\n",
              "        text-align: right;\n",
              "    }\n",
              "</style>\n",
              "<table border=\"1\" class=\"dataframe\">\n",
              "  <thead>\n",
              "    <tr style=\"text-align: right;\">\n",
              "      <th></th>\n",
              "      <th>Pais</th>\n",
              "      <th>Continente</th>\n",
              "      <th>Ano</th>\n",
              "      <th>Expct_Vida</th>\n",
              "      <th>Pop_Total</th>\n",
              "      <th>PIB</th>\n",
              "    </tr>\n",
              "  </thead>\n",
              "  <tbody>\n",
              "    <tr>\n",
              "      <th>975</th>\n",
              "      <td>Fiji</td>\n",
              "      <td>Oceania</td>\n",
              "      <td>1962</td>\n",
              "      <td>56.494</td>\n",
              "      <td>421869</td>\n",
              "      <td>2039.393277</td>\n",
              "    </tr>\n",
              "    <tr>\n",
              "      <th>976</th>\n",
              "      <td>Fiji</td>\n",
              "      <td>Oceania</td>\n",
              "      <td>1967</td>\n",
              "      <td>58.607</td>\n",
              "      <td>485000</td>\n",
              "      <td>2170.073285</td>\n",
              "    </tr>\n",
              "    <tr>\n",
              "      <th>977</th>\n",
              "      <td>Fiji</td>\n",
              "      <td>Oceania</td>\n",
              "      <td>1972</td>\n",
              "      <td>60.642</td>\n",
              "      <td>544000</td>\n",
              "      <td>2797.759484</td>\n",
              "    </tr>\n",
              "    <tr>\n",
              "      <th>978</th>\n",
              "      <td>Fiji</td>\n",
              "      <td>Oceania</td>\n",
              "      <td>1977</td>\n",
              "      <td>62.669</td>\n",
              "      <td>599339</td>\n",
              "      <td>3182.569600</td>\n",
              "    </tr>\n",
              "    <tr>\n",
              "      <th>979</th>\n",
              "      <td>Fiji</td>\n",
              "      <td>Oceania</td>\n",
              "      <td>1982</td>\n",
              "      <td>64.683</td>\n",
              "      <td>658906</td>\n",
              "      <td>3209.257468</td>\n",
              "    </tr>\n",
              "  </tbody>\n",
              "</table>\n",
              "</div>"
            ],
            "text/plain": [
              "     Pais Continente   Ano  Expct_Vida  Pop_Total          PIB\n",
              "975  Fiji    Oceania  1962      56.494     421869  2039.393277\n",
              "976  Fiji    Oceania  1967      58.607     485000  2170.073285\n",
              "977  Fiji    Oceania  1972      60.642     544000  2797.759484\n",
              "978  Fiji    Oceania  1977      62.669     599339  3182.569600\n",
              "979  Fiji    Oceania  1982      64.683     658906  3209.257468"
            ]
          },
          "metadata": {},
          "execution_count": 25
        }
      ]
    },
    {
      "cell_type": "code",
      "metadata": {
        "colab": {
          "base_uri": "https://localhost:8080/"
        },
        "id": "tGI14ByLpyqu",
        "outputId": "1595c0b9-0615-4856-8b04-0caafd156731"
      },
      "source": [
        "oceania[\"Continente\"].unique()"
      ],
      "execution_count": 21,
      "outputs": [
        {
          "output_type": "execute_result",
          "data": {
            "text/plain": [
              "array(['Oceania'], dtype=object)"
            ]
          },
          "metadata": {},
          "execution_count": 21
        }
      ]
    },
    {
      "cell_type": "code",
      "metadata": {
        "colab": {
          "base_uri": "https://localhost:8080/"
        },
        "id": "3kVxAOzUp_7I",
        "outputId": "71a1f566-069e-4fce-ad53-9b1020535bcc"
      },
      "source": [
        "df.groupby(\"Continente\")[\"Pais\"].nunique()"
      ],
      "execution_count": 27,
      "outputs": [
        {
          "output_type": "execute_result",
          "data": {
            "text/plain": [
              "Continente\n",
              "Africa      51\n",
              "Americas    25\n",
              "Asia        41\n",
              "Europe      35\n",
              "FSU          6\n",
              "Oceania      3\n",
              "Name: Pais, dtype: int64"
            ]
          },
          "metadata": {},
          "execution_count": 27
        }
      ]
    },
    {
      "cell_type": "code",
      "metadata": {
        "colab": {
          "base_uri": "https://localhost:8080/"
        },
        "id": "QYtaHf_ZqdCg",
        "outputId": "74c371e5-5aa3-4c16-867e-0d839e3e5219"
      },
      "source": [
        "df.groupby(\"Ano\")[\"Expct_Vida\"].mean()"
      ],
      "execution_count": 28,
      "outputs": [
        {
          "output_type": "execute_result",
          "data": {
            "text/plain": [
              "Ano\n",
              "1950    62.002568\n",
              "1951    65.904167\n",
              "1952    49.206867\n",
              "1953    66.674563\n",
              "1954    67.459817\n",
              "1955    67.806757\n",
              "1956    67.950637\n",
              "1957    51.614590\n",
              "1958    68.815936\n",
              "1959    68.226579\n",
              "1960    68.470837\n",
              "1961    68.862480\n",
              "1962    54.035234\n",
              "1963    69.595735\n",
              "1964    70.063105\n",
              "1965    70.259881\n",
              "1966    70.447526\n",
              "1967    56.263629\n",
              "1968    70.689081\n",
              "1969    70.653896\n",
              "1970    70.961141\n",
              "1971    71.103976\n",
              "1972    58.474481\n",
              "1973    71.500338\n",
              "1974    71.778504\n",
              "1975    71.939218\n",
              "1976    72.158050\n",
              "1977    60.429090\n",
              "1978    72.717567\n",
              "1979    73.018717\n",
              "1980    73.064524\n",
              "1981    73.337399\n",
              "1982    62.365871\n",
              "1983    73.787778\n",
              "1984    74.100741\n",
              "1985    74.112222\n",
              "1986    74.452222\n",
              "1987    63.984860\n",
              "1988    74.760000\n",
              "1989    74.924444\n",
              "1990    74.283437\n",
              "1991    74.374848\n",
              "1992    65.008443\n",
              "1993    74.324545\n",
              "1994    74.456667\n",
              "1995    74.552727\n",
              "1996    75.029394\n",
              "1997    65.873799\n",
              "1998    75.569697\n",
              "1999    75.703636\n",
              "2000    76.026364\n",
              "2001    76.257879\n",
              "2002    66.835695\n",
              "2003    76.586667\n",
              "2004    76.921563\n",
              "2005    76.718667\n",
              "2006    77.887778\n",
              "2007    67.868557\n",
              "Name: Expct_Vida, dtype: float64"
            ]
          },
          "metadata": {},
          "execution_count": 28
        }
      ]
    },
    {
      "cell_type": "code",
      "metadata": {
        "colab": {
          "base_uri": "https://localhost:8080/"
        },
        "id": "DuHD0CJiq7Cl",
        "outputId": "c98d2c80-cda4-4c64-d88a-d09b72354d70"
      },
      "source": [
        "df[\"PIB\"].mean()"
      ],
      "execution_count": 29,
      "outputs": [
        {
          "output_type": "execute_result",
          "data": {
            "text/plain": [
              "11317.115804696637"
            ]
          },
          "metadata": {},
          "execution_count": 29
        }
      ]
    },
    {
      "cell_type": "code",
      "metadata": {
        "id": "n6iWLV_2rKfj"
      },
      "source": [
        ""
      ],
      "execution_count": null,
      "outputs": []
    }
  ]
}